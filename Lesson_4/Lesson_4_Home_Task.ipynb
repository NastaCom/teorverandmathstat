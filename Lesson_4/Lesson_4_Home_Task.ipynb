{
 "cells": [
  {
   "cell_type": "markdown",
   "metadata": {},
   "source": [
    "### Урок 4 ДЗ"
   ]
  },
  {
   "cell_type": "code",
   "execution_count": 1,
   "metadata": {},
   "outputs": [],
   "source": [
    "import math"
   ]
  },
  {
   "cell_type": "markdown",
   "metadata": {},
   "source": [
    "##### Задание 1"
   ]
  },
  {
   "cell_type": "markdown",
   "metadata": {},
   "source": [
    "1.\n",
    "Случайная непрерывная величина A имеет равномерное распределение на промежутке (200, 800].\n",
    "Найдите ее среднее значение и дисперсию."
   ]
  },
  {
   "cell_type": "markdown",
   "metadata": {},
   "source": [
    "среднее значение: \n",
    "    $$M(X) = \\frac{a + b}{2}$$"
   ]
  },
  {
   "cell_type": "markdown",
   "metadata": {},
   "source": [
    "дисперсия:\n",
    "    $$D(X) = \\frac{(b - a)^2}{12}$$"
   ]
  },
  {
   "cell_type": "markdown",
   "metadata": {},
   "source": [
    "Дано: "
   ]
  },
  {
   "cell_type": "code",
   "execution_count": 2,
   "metadata": {},
   "outputs": [],
   "source": [
    "a = 200; \n",
    "b = 800;"
   ]
  },
  {
   "cell_type": "code",
   "execution_count": 3,
   "metadata": {},
   "outputs": [
    {
     "data": {
      "text/plain": [
       "500.0"
      ]
     },
     "execution_count": 3,
     "metadata": {},
     "output_type": "execute_result"
    }
   ],
   "source": [
    "MX = (a + b) / 2\n",
    "MX"
   ]
  },
  {
   "cell_type": "code",
   "execution_count": 4,
   "metadata": {},
   "outputs": [
    {
     "data": {
      "text/plain": [
       "30000.0"
      ]
     },
     "execution_count": 4,
     "metadata": {},
     "output_type": "execute_result"
    }
   ],
   "source": [
    "DX = (b - a)**2 /12\n",
    "DX"
   ]
  },
  {
   "cell_type": "markdown",
   "metadata": {},
   "source": [
    "##### Задание 2"
   ]
  },
  {
   "cell_type": "markdown",
   "metadata": {},
   "source": [
    "2. О случайной непрерывной равномерно распределенной величине B известно, что ее дисперсия равна 0.2.\n",
    "Можно ли найти правую границу величины B и ее среднее значение зная, что левая граница равна 0.5?\n",
    "Если да, найдите ее."
   ]
  },
  {
   "cell_type": "markdown",
   "metadata": {},
   "source": [
    "Дано: D(X) = 0.2; a = 0.5"
   ]
  },
  {
   "cell_type": "code",
   "execution_count": 5,
   "metadata": {},
   "outputs": [],
   "source": [
    "DX = 0.2;\n",
    "a = 0.5;"
   ]
  },
  {
   "cell_type": "markdown",
   "metadata": {},
   "source": [
    "дисперсия:\n",
    "    $$D(X) = \\frac{(b - a)^2}{12}$$"
   ]
  },
  {
   "cell_type": "code",
   "execution_count": 6,
   "metadata": {},
   "outputs": [
    {
     "data": {
      "text/plain": [
       "2.049193338482967"
      ]
     },
     "execution_count": 6,
     "metadata": {},
     "output_type": "execute_result"
    }
   ],
   "source": [
    "b = (math.sqrt(0.2 * 12)) + 0.5\n",
    "b"
   ]
  },
  {
   "cell_type": "markdown",
   "metadata": {},
   "source": [
    "среднее значение: \n",
    "    $$M(X) = \\frac{a + b}{2}$$"
   ]
  },
  {
   "cell_type": "code",
   "execution_count": 7,
   "metadata": {},
   "outputs": [
    {
     "data": {
      "text/plain": [
       "1.2745966692414834"
      ]
     },
     "execution_count": 7,
     "metadata": {},
     "output_type": "execute_result"
    }
   ],
   "source": [
    "MX = (a + b) / 2\n",
    "MX"
   ]
  },
  {
   "cell_type": "markdown",
   "metadata": {},
   "source": [
    "##### Задание 3"
   ]
  },
  {
   "cell_type": "markdown",
   "metadata": {},
   "source": [
    "Непрерывная случайная величина X распределена нормально и задана плотностью распределения\n",
    "f(x) = (1 / (4 * sqrt(2*pi))) * (exp(-(x+2)**2) / 32).\n",
    "Найдите:\n",
    "а). M(X)\n",
    "б). D(X)\n",
    "в). std(X) (среднее квадратичное отклонение)"
   ]
  },
  {
   "cell_type": "markdown",
   "metadata": {},
   "source": [
    "Решение"
   ]
  },
  {
   "cell_type": "markdown",
   "metadata": {},
   "source": [
    "Нормальное распределение: \n",
    "$$f(x) = \\frac{1}{\\sigma \\sqrt{2 \\pi}} e ^ {- \\frac{(x - a)^2}{2 \\sigma^2}},$$"
   ]
  },
  {
   "cell_type": "markdown",
   "metadata": {},
   "source": [
    "D(X) = 4 ** 2 = 16;\n",
    "M(X) = -2;\n",
    "std(X) = 4;"
   ]
  },
  {
   "cell_type": "markdown",
   "metadata": {},
   "source": [
    "##### Задание 4"
   ]
  },
  {
   "cell_type": "markdown",
   "metadata": {},
   "source": [
    "Рост взрослого населения города X имеет нормальное распределение.\n",
    "Причем, средний рост равен 174 см, а среднее квадратичное отклонение равно 8 см.\n",
    "Какова вероятность того, что случайным образом выбранный взрослый человек имеет рост:\n",
    "\n",
    "а). больше 182 см\n",
    "\n",
    "б). больше 190 см\n",
    "\n",
    "в). от 166 см до 190 см\n",
    "\n",
    "г). от 166 см до 182 см\n",
    "\n",
    "д). от 158 см до 190 см\n",
    "\n",
    "е). не выше 150 см или не ниже 190 см\n",
    "\n",
    "ё). не выше 150 см или не ниже 198 см\n",
    "\n",
    "ж). ниже 166 см."
   ]
  },
  {
   "cell_type": "markdown",
   "metadata": {},
   "source": [
    "##### Решение:"
   ]
  },
  {
   "cell_type": "markdown",
   "metadata": {},
   "source": [
    "4.а) больше 182 см"
   ]
  },
  {
   "cell_type": "markdown",
   "metadata": {},
   "source": [
    "P(α < X) = ф((180 - 174)/8) = ф(0.75) = 0.22663"
   ]
  },
  {
   "cell_type": "markdown",
   "metadata": {},
   "source": [
    "4.б) больше 190 см"
   ]
  },
  {
   "cell_type": "markdown",
   "metadata": {},
   "source": [
    "P(α < X) = ф((190 - 174)/8) = ф(2.0) = 0.02275"
   ]
  },
  {
   "cell_type": "markdown",
   "metadata": {},
   "source": [
    "4.в) от 166 см до 190 см"
   ]
  },
  {
   "cell_type": "markdown",
   "metadata": {},
   "source": [
    " P(α < X < β) = (ф((190 - 174)/8)-ф((166 - 174)/8))/2 = (ф(2.0)+ф(1.0))/2 = (0.9772 +0.15866)/2 = 1.13586/2 = 0.56793"
   ]
  },
  {
   "cell_type": "markdown",
   "metadata": {},
   "source": [
    "4.г) от 166 см до 182 см"
   ]
  },
  {
   "cell_type": "markdown",
   "metadata": {},
   "source": [
    "P(α < X < β) = (ф((182 - 174)/8)-ф((166 - 174)/8))/2 = (ф(1.0)+ф(1.0))/2 = (0.8413 + 0.15866)/2 = 0.99996/2 = 0.49998"
   ]
  },
  {
   "cell_type": "markdown",
   "metadata": {},
   "source": [
    "4.д) от 158 см до 190 см"
   ]
  },
  {
   "cell_type": "markdown",
   "metadata": {},
   "source": [
    "P(α < X < β) = (ф((190 - 174)/8)-ф((158 - 174)/8))/2 = (ф(2.0)+ф(2.0))/2 = (0.9772 + 0.02275)/2 = 0.99995 / 2 = 0.499975"
   ]
  },
  {
   "cell_type": "markdown",
   "metadata": {},
   "source": [
    "4.е) не выше 150 см или не ниже 190 см"
   ]
  },
  {
   "cell_type": "markdown",
   "metadata": {},
   "source": [
    "P(X < 150 || X > 190) = ф((190-174)/8) - ф((150-174)/8) = ф(2.0) + ф(3.0) = 0.02275 + 0.00135 = 0.0241"
   ]
  },
  {
   "cell_type": "markdown",
   "metadata": {},
   "source": [
    "4.ё) не выше 150 см или не ниже 198 см"
   ]
  },
  {
   "cell_type": "markdown",
   "metadata": {},
   "source": [
    "P(X < 150 || X > 198) = ф((198-174)/8) - ф((150-174)/8) = ф(3.0) + ф(3.0) = 0.00135 + 0.00135 = 0.0027"
   ]
  },
  {
   "cell_type": "markdown",
   "metadata": {},
   "source": [
    "4.ж) ниже 166 см."
   ]
  },
  {
   "cell_type": "code",
   "execution_count": null,
   "metadata": {},
   "outputs": [],
   "source": [
    "P(X < β) = ф((166 - 174)/8) = -ф(1.0) = 0.1587"
   ]
  },
  {
   "cell_type": "markdown",
   "metadata": {},
   "source": [
    "##### Задание 5"
   ]
  },
  {
   "cell_type": "markdown",
   "metadata": {},
   "source": [
    "5.\n",
    "На сколько сигм (средних квадратичных отклонений) отклоняется рост человека, равный 190 см, от\n",
    "математического ожидания роста в популяции, в которой M(X) = 178 см и D(X) = 25 кв.см?"
   ]
  },
  {
   "cell_type": "markdown",
   "metadata": {},
   "source": [
    "Решение"
   ]
  },
  {
   "cell_type": "markdown",
   "metadata": {},
   "source": [
    "$a = M(X), \\; \\sigma^2 = D(X).$\n"
   ]
  },
  {
   "cell_type": "markdown",
   "metadata": {},
   "source": [
    "D(X) = 25, тогда 𝜎 = 5"
   ]
  },
  {
   "cell_type": "code",
   "execution_count": null,
   "metadata": {},
   "outputs": [],
   "source": [
    "n = (190 - 178) / 5 \n",
    "n"
   ]
  },
  {
   "cell_type": "code",
   "execution_count": null,
   "metadata": {},
   "outputs": [],
   "source": []
  }
 ],
 "metadata": {
  "kernelspec": {
   "display_name": "Python 3",
   "language": "python",
   "name": "python3"
  },
  "language_info": {
   "codemirror_mode": {
    "name": "ipython",
    "version": 3
   },
   "file_extension": ".py",
   "mimetype": "text/x-python",
   "name": "python",
   "nbconvert_exporter": "python",
   "pygments_lexer": "ipython3",
   "version": "3.7.6"
  }
 },
 "nbformat": 4,
 "nbformat_minor": 4
}
